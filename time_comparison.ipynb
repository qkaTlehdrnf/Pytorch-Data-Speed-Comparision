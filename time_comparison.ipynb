{
 "cells": [
  {
   "cell_type": "code",
   "execution_count": 2,
   "metadata": {},
   "outputs": [],
   "source": [
    "import torch as tc\n",
    "from torch import nn\n",
    "from torch.nn import functional as F\n",
    "import time"
   ]
  },
  {
   "cell_type": "code",
   "execution_count": 3,
   "metadata": {},
   "outputs": [],
   "source": [
    "device = tc.device('cuda:2')"
   ]
  },
  {
   "cell_type": "code",
   "execution_count": 26,
   "metadata": {},
   "outputs": [],
   "source": [
    "class LargefcNet(nn.Module):\n",
    "    def __init__(self, input_size, hidden_size, output_size, device, dropout=0.2):\n",
    "        super(LargefcNet, self).__init__()\n",
    "        self.fc1 = nn.Linear(input_size, hidden_size)\n",
    "        self.fc2 = nn.Linear(hidden_size, hidden_size)\n",
    "        self.fc3 = nn.Linear(hidden_size, hidden_size)\n",
    "        self.fc4 = nn.Linear(hidden_size, hidden_size)\n",
    "        self.fc5 = nn.Linear(hidden_size, hidden_size)\n",
    "        self.fc6 = nn.Linear(hidden_size, hidden_size)\n",
    "        self.end = nn.Linear(hidden_size, output_size)\n",
    "        self.dropout = nn.Dropout(dropout)\n",
    "        self.relu = nn.ReLU()\n",
    "\n",
    "    def forward(self, x):\n",
    "        x = self.dropout(self.relu(self.fc1(x)))\n",
    "        for i in range(100):\n",
    "            x = self.dropout(self.relu(self.fc2(x)))\n",
    "        x = self.end(x)\n",
    "        return x\n",
    "\n",
    "\n",
    "model1 = LargefcNet(100, 3000, 100, tc.device(device),\n",
    "                    dropout=0.4).to(tc.device(device))\n",
    "model2 = LargefcNet(100, 3000, 100, tc.device(device),\n",
    "                    dropout=0.4).to(tc.device(device))\n",
    "model3 = LargefcNet(100, 3000, 100, tc.device(device),\n",
    "                    dropout=0.4).to(tc.device(device))\n",
    "\n",
    "input1 = tc.randn(100, 100).to(tc.device(device))\n",
    "input2 = tc.randn(100, 100).to(tc.device(device))\n",
    "input3 = tc.randn(100, 100).to(tc.device(device))\n"
   ]
  },
  {
   "cell_type": "code",
   "execution_count": 28,
   "metadata": {},
   "outputs": [
    {
     "name": "stdout",
     "output_type": "stream",
     "text": [
      "output1: 0.35519957542419434\n",
      "output2: 0.36833763122558594\n",
      "output3: 0.3359034061431885\n",
      "for loop output1, output2, output3: 1.0291898250579834\n",
      "for loop output1, output2, output3 sending another device: 0.4717831611633301\n",
      "list together outputs: 1.2263202667236328\n",
      "parallel_apply: 1.0801422595977783\n"
     ]
    }
   ],
   "source": [
    "# this one is for gpu loading\n",
    "[model1, model2, model3] = [model1.to(tc.device(device)), model2.to(tc.device(device)), model3.to(tc.device(device))]\n",
    "[input1, input2, input3] = [input1.to(tc.device(device)), input2.to(tc.device(device)), input3.to(tc.device(device))]\n",
    "output1 = model1(input1)\n",
    "output2 = model2(input2)\n",
    "output3 = model3(input3)\n",
    "\n",
    "start_time = time.time()\n",
    "for i in range(10):\n",
    "    output1 = model1(input1)\n",
    "print(f'output1: {time.time() - start_time}')\n",
    "\n",
    "start_time = time.time()\n",
    "for i in range(10):\n",
    "    output2 = model2(input2)\n",
    "print(f'output2: {time.time() - start_time}')\n",
    "\n",
    "start_time = time.time()\n",
    "for i in range(10):\n",
    "    output3 = model3(input3)\n",
    "print(f'output3: {time.time() - start_time}')\n",
    "\n",
    "#method 1\n",
    "start_time = time.time()\n",
    "for i in range(10):\n",
    "    output1 = model1(input1)\n",
    "    output2 = model2(input2)\n",
    "    output3 = model3(input3)\n",
    "print(f'for loop output1, output2, output3: {time.time() - start_time}')\n",
    "\n",
    "#method 2\n",
    "[model1, model2, model3] = [model1.to(tc.device('cuda:0')), model2.to(tc.device('cuda:1')), model3.to(tc.device('cuda:2'))]\n",
    "[input1, input2, input3] = [input1.to(tc.device('cuda:0')), input2.to(\n",
    "    tc.device('cuda:1')), input3.to(tc.device('cuda:2'))]\n",
    "start_time = time.time()\n",
    "for i in range(10):\n",
    "    output1 = model1(input1)\n",
    "    output2 = model2(input2)\n",
    "    output3 = model3(input3)\n",
    "print(f'for loop output1, output2, output3 sending another device: {time.time() - start_time}')\n",
    "\n",
    "[model1, model2, model3] = [model1.to(tc.device(device)), model2.to(tc.device(device)), model3.to(tc.device(device))]\n",
    "[input1, input2, input3] = [input1.to(tc.device(device)), input2.to(tc.device(device)), input3.to(tc.device(device))]\n",
    "#method 3\n",
    "start_time = time.time()\n",
    "for i in range(10):\n",
    "    outputs = [model(input) for model, input in zip(\n",
    "        [model1, model2, model3], [input1, input2, input3])]\n",
    "print(f'list together outputs: {time.time() - start_time}')\n",
    "\n",
    "# parallel method 1 it will run model1(input1) on gpu 0, model2(input2) on gpu 1, model3(input3) on gpu 2 and all calculation will be start and end with simultaneous\n",
    "start_time = time.time()\n",
    "for i in range(10):\n",
    "    outputs = tc.nn.parallel.parallel_apply(\n",
    "        [model1, model2, model3], [input1, input2, input3])\n",
    "print(f'parallel_apply: {time.time() - start_time}')\n"
   ]
  },
  {
   "cell_type": "code",
   "execution_count": 6,
   "metadata": {},
   "outputs": [
    {
     "name": "stdout",
     "output_type": "stream",
     "text": [
      "Time for separate backward: 3.1925063133239746\n",
      "Time for summing and backwarding: 2.6383376121520996\n",
      "Time for tc.autograd.backward: 2.6009981632232666\n"
     ]
    }
   ],
   "source": [
    "\n",
    "\n",
    "# Generate some sample data\n",
    "x = tc.randn((30002, 9000), requires_grad=True).to(device)\n",
    "y1 = tc.randn((30002, 9000), requires_grad=True).to(device)\n",
    "y2 = tc.randn((30002, 9000), requires_grad=True).to(device)\n",
    "\n",
    "# Calculate the losses separately\n",
    "start_time = time.time()\n",
    "loss1 = tc.sum((x - y1) ** 2)\n",
    "loss2 = tc.sum((x - y2) ** 2)\n",
    "loss1.backward()\n",
    "loss2.backward()\n",
    "end_time = time.time()\n",
    "print(f\"Time for separate backward: {end_time - start_time}\")\n",
    "\n",
    "x.detach()\n",
    "y1.detach()\n",
    "y2.detach()\n",
    "\n",
    "# Calculate the losses separately\n",
    "start_time = time.time()\n",
    "loss1 = tc.sum((x - y1) ** 2)\n",
    "loss2 = tc.sum((x - y2) ** 2)\n",
    "loss_sum = loss1 + loss2\n",
    "loss_sum.backward()\n",
    "end_time = time.time()\n",
    "print(f\"Time for summing and backwarding: {end_time - start_time}\")\n",
    "\n",
    "x.detach()\n",
    "y1.detach()\n",
    "y2.detach()\n",
    "\n",
    "\n",
    "# Calculate the losses separately\n",
    "start_time = time.time()\n",
    "loss1 = tc.sum((x - y1) ** 2)\n",
    "loss2 = tc.sum((x - y2) ** 2)\n",
    "tc.autograd.backward([loss1, loss2])\n",
    "end_time = time.time()\n",
    "print(f\"Time for tc.autograd.backward: {end_time - start_time}\")\n",
    "\n"
   ]
  }
 ],
 "metadata": {
  "kernelspec": {
   "display_name": "tc39",
   "language": "python",
   "name": "python3"
  },
  "language_info": {
   "codemirror_mode": {
    "name": "ipython",
    "version": 3
   },
   "file_extension": ".py",
   "mimetype": "text/x-python",
   "name": "python",
   "nbconvert_exporter": "python",
   "pygments_lexer": "ipython3",
   "version": "3.9.15"
  },
  "orig_nbformat": 4,
  "vscode": {
   "interpreter": {
    "hash": "c907900c48604134ef9a893f717185199b47e5199809f7e03e249273eb23de91"
   }
  }
 },
 "nbformat": 4,
 "nbformat_minor": 2
}
